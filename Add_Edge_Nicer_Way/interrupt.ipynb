{
 "cells": [
  {
   "cell_type": "code",
   "execution_count": 6,
   "id": "e9a796be",
   "metadata": {},
   "outputs": [
    {
     "name": "stdout",
     "output_type": "stream",
     "text": [
      "Node A\n",
      "Node B\n"
     ]
    },
    {
     "data": {
      "text/plain": [
       "[{'node_a': {'text': 'a'}},\n",
       " {'__interrupt__': (Interrupt(value='Do You Want To Go To C or D? Type (C/D)', resumable=True, ns=['node_b:2e58408d-646f-deb0-0f3d-9f3c5c870e5e']),)}]"
      ]
     },
     "execution_count": 6,
     "metadata": {},
     "output_type": "execute_result"
    }
   ],
   "source": [
    "from langgraph.graph import StateGraph,END\n",
    "from langgraph.types import Command\n",
    "from typing import TypedDict\n",
    "from langgraph.types import interrupt\n",
    "from langgraph.checkpoint.memory import MemorySaver\n",
    "\n",
    "\n",
    "memory = MemorySaver()\n",
    "class State(TypedDict):\n",
    "    text:str\n",
    "\n",
    "\n",
    "def nodeA(state:State):\n",
    "    print(\"Node A\")\n",
    "    return Command(\n",
    "        goto=\"node_b\",\n",
    "        update={\n",
    "            \"text\":state[\"text\"]+\"a\"\n",
    "        }\n",
    "    )\n",
    "\n",
    "\n",
    "def nodeB(state:State):\n",
    "    print(\"Node B\")\n",
    "    human_response = interrupt(\"Do You Want To Go To C or D? Type (C/D)\")\n",
    "    print(\"Human Values\",human_response)\n",
    "    if(human_response==\"C\"or human_response==\"c\"):\n",
    "            return Command(\n",
    "            goto=\"node_c\",\n",
    "            update={\n",
    "            \"text\":state[\"text\"]+\"b\"\n",
    "            }\n",
    "    )\n",
    "    elif(human_response==\"D\"or human_response==\"d\"):\n",
    "         return Command(\n",
    "            goto=\"node_d\",\n",
    "            update={\n",
    "            \"text\":state[\"text\"]+\"b\"\n",
    "            }\n",
    "    )\n",
    "         \n",
    "\n",
    "    \n",
    "\n",
    "\n",
    "\n",
    "def nodeC(state:State):\n",
    "    print(\"Node C\")\n",
    "    return Command(\n",
    "        goto=\"node_d\",\n",
    "        update={\n",
    "            \"text\":state[\"text\"]+\"c\"\n",
    "        }\n",
    "    )\n",
    "\n",
    "def nodeD(state:State):\n",
    "    print(\"Node D\")\n",
    "    return Command(\n",
    "        goto=END,\n",
    "        update={\n",
    "            \"text\":state[\"text\"]+\"d\"\n",
    "        }\n",
    "    )\n",
    "\n",
    "\n",
    "# Dont have to add edge here we manage upwards\n",
    "graph = StateGraph(State)\n",
    "graph.add_node(\"node_a\",nodeA)\n",
    "graph.add_node(\"node_b\",nodeB)\n",
    "graph.add_node(\"node_c\",nodeC)\n",
    "graph.add_node(\"node_d\",nodeD)\n",
    "\n",
    "graph.set_entry_point(\"node_a\")\n",
    "\n",
    "app = graph.compile(checkpointer=memory)\n",
    "config = {\"configurable\":{\"thread_id\":\"1\"}}\n",
    "initial_state = {\n",
    "     \"text\":\"\"\n",
    "}\n",
    "response = app.invoke(initial_state,config=config,stream_mode=\"updates\")\n",
    "response"
   ]
  },
  {
   "cell_type": "code",
   "execution_count": 7,
   "id": "0e14f6e6",
   "metadata": {},
   "outputs": [
    {
     "name": "stdout",
     "output_type": "stream",
     "text": [
      "Node B\n",
      "Human Values D\n",
      "Node D\n"
     ]
    },
    {
     "data": {
      "text/plain": [
       "[{'node_b': {'text': 'ab'}}, {'node_d': {'text': 'abd'}}]"
      ]
     },
     "execution_count": 7,
     "metadata": {},
     "output_type": "execute_result"
    }
   ],
   "source": [
    "user_input = app.invoke(Command(resume=\"D\"),config=config,stream_mode=\"updates\")\n",
    "user_input"
   ]
  },
  {
   "cell_type": "code",
   "execution_count": null,
   "id": "d9a32219",
   "metadata": {},
   "outputs": [],
   "source": []
  }
 ],
 "metadata": {
  "kernelspec": {
   "display_name": "venv",
   "language": "python",
   "name": "python3"
  },
  "language_info": {
   "codemirror_mode": {
    "name": "ipython",
    "version": 3
   },
   "file_extension": ".py",
   "mimetype": "text/x-python",
   "name": "python",
   "nbconvert_exporter": "python",
   "pygments_lexer": "ipython3",
   "version": "3.12.1"
  }
 },
 "nbformat": 4,
 "nbformat_minor": 5
}
