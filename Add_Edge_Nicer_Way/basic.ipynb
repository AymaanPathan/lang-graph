{
 "cells": [
  {
   "cell_type": "code",
   "execution_count": 9,
   "id": "6983709d",
   "metadata": {},
   "outputs": [
    {
     "name": "stdout",
     "output_type": "stream",
     "text": [
      "Node A\n",
      "Node B\n"
     ]
    },
    {
     "data": {
      "image/png": "[encoded data removed]",
      "text/plain": [
       "<langgraph.graph.state.CompiledStateGraph object at 0x0000000000919F40>"
      ]
     },
     "execution_count": 9,
     "metadata": {},
     "output_type": "execute_result"
    }
   ],
   "source": [
    "from langgraph.graph import StateGraph,END\n",
    "from langgraph.types import Command\n",
    "from typing import TypedDict\n",
    "\n",
    "class State(TypedDict):\n",
    "    text:str\n",
    "\n",
    "\n",
    "def nodeA(state:State):\n",
    "    print(\"Node A\")\n",
    "    return Command(\n",
    "        goto=\"node_b\",\n",
    "        update={\n",
    "            \"text\":state[\"text\"]+\"a\"\n",
    "        }\n",
    "    )\n",
    "\n",
    "\n",
    "def nodeB(state:State):\n",
    "    print(\"Node B\")\n",
    "    return Command(\n",
    "        goto=END,\n",
    "        update={\n",
    "            \"text\":state[\"text\"]+\"b\"\n",
    "        }\n",
    "    )\n",
    "\n",
    "\n",
    "\n",
    "def nodeC(state:State):\n",
    "    print(\"Node C\")\n",
    "    return Command(\n",
    "        goto=END,\n",
    "        update={\n",
    "            \"text\":state[\"text\"]+\"c\"\n",
    "        }\n",
    "    )\n",
    "\n",
    "\n",
    "# Dont have to add edge here we manage upwards\n",
    "graph = StateGraph(State)\n",
    "graph.add_node(\"node_a\",nodeA)\n",
    "graph.add_node(\"node_b\",nodeB)\n",
    "graph.add_node(\"node_c\",nodeC)\n",
    "\n",
    "graph.set_entry_point(\"node_a\")\n",
    "\n",
    "app = graph.compile()\n",
    "response = app.invoke({\n",
    "    \"text\":\"\"\n",
    "})\n",
    "app"
   ]
  },
  {
   "cell_type": "code",
   "execution_count": null,
   "id": "c40c1ace",
   "metadata": {},
   "outputs": [],
   "source": []
  }
 ],
 "metadata": {
  "kernelspec": {
   "display_name": "venv",
   "language": "python",
   "name": "python3"
  },
  "language_info": {
   "codemirror_mode": {
    "name": "ipython",
    "version": 3
   },
   "file_extension": ".py",
   "mimetype": "text/x-python",
   "name": "python",
   "nbconvert_exporter": "python",
   "pygments_lexer": "ipython3",
   "version": "3.12.1"
  }
 },
 "nbformat": 4,
 "nbformat_minor": 5
}
