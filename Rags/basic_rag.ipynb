{
 "cells": [
  {
   "cell_type": "code",
   "execution_count": 24,
   "id": "23c68b18",
   "metadata": {},
   "outputs": [],
   "source": [
    "from langchain.schema import Document\n",
    "from langchain_community.vectorstores import Chroma\n",
    "from langchain.embeddings import HuggingFaceEmbeddings\n",
    "embedding_model = HuggingFaceEmbeddings(model_name=\"sentence-transformers/all-MiniLM-L6-v2\")\n",
    "\n",
    "\n",
    "\n",
    "docs = [\n",
    "    Document(\n",
    "        page_content=\"\"\"\n",
    "        At Bresto Café, we specialize in artisan coffee blends carefully crafted from the finest beans \n",
    "        around the world. Our signature brews range from bold dark roasts to delicate single-origin \n",
    "        pour-overs. We believe in sustainable sourcing and work directly with small farms to ensure \n",
    "        quality and ethics. Coffee lovers can also enjoy our rotating seasonal specials and in-house \n",
    "        cold brews, made fresh daily.\n",
    "        \"\"\",\n",
    "        metadata={\"source\": \"CoffeeMenu.txt\"}\n",
    "    ),\n",
    "\n",
    "    Document(\n",
    "        page_content=\"\"\"\n",
    "        The brunch experience at Bresto is a local favorite. From fluffy sourdough pancakes topped with \n",
    "        wild berries to savory avocado toast served on freshly baked multigrain bread, every dish is made \n",
    "        with locally sourced ingredients. Our vegan and gluten-free options make Bresto an inclusive spot \n",
    "        for all dietary needs. Don't miss our house-special: shakshuka with sour cream and za'atar toast.\n",
    "        \"\"\",\n",
    "        metadata={\"source\": \"BrunchMenu.txt\"}\n",
    "    ),\n",
    "\n",
    "    Document(\n",
    "        page_content=\"\"\"\n",
    "        At Bresto, we care about the environment. All our packaging is compostable, and we’ve eliminated \n",
    "        single-use plastics. We also host community sustainability events, such as zero-waste workshops \n",
    "        and local farm pop-ups. Our rooftop herb garden provides ingredients for our teas and specials, \n",
    "        helping reduce food miles and promote urban greenery.\n",
    "        \"\"\",\n",
    "        metadata={\"source\": \"SustainabilityPolicy.txt\"}\n",
    "    )\n",
    "]\n",
    "\n",
    "db =  Chroma.from_documents(docs,embedding_model)"
   ]
  },
  {
   "cell_type": "code",
   "execution_count": 25,
   "id": "d35fa493",
   "metadata": {},
   "outputs": [],
   "source": [
    "retriever = db.as_retriever(search_kwargs={\"k\":3})"
   ]
  },
  {
   "cell_type": "code",
   "execution_count": 26,
   "id": "6fb1fc48",
   "metadata": {},
   "outputs": [
    {
     "data": {
      "text/plain": [
       "[Document(metadata={'source': 'CoffeeMenu.txt'}, page_content='\\n        At Bresto Café, we specialize in artisan coffee blends carefully crafted from the finest beans \\n        around the world. Our signature brews range from bold dark roasts to delicate single-origin \\n        pour-overs. We believe in sustainable sourcing and work directly with small farms to ensure \\n        quality and ethics. Coffee lovers can also enjoy our rotating seasonal specials and in-house \\n        cold brews, made fresh daily.\\n        '),\n",
       " Document(metadata={'source': 'CoffeeMenu.txt'}, page_content='\\n        At Bresto Café, we specialize in artisan coffee blends carefully crafted from the finest beans \\n        around the world. Our signature brews range from bold dark roasts to delicate single-origin \\n        pour-overs. We believe in sustainable sourcing and work directly with small farms to ensure \\n        quality and ethics. Coffee lovers can also enjoy our rotating seasonal specials and in-house \\n        cold brews, made fresh daily.\\n        '),\n",
       " Document(metadata={'source': 'CoffeeMenu.txt'}, page_content='\\n        At Bresto Café, we specialize in artisan coffee blends carefully crafted from the finest beans \\n        around the world. Our signature brews range from bold dark roasts to delicate single-origin \\n        pour-overs. We believe in sustainable sourcing and work directly with small farms to ensure \\n        quality and ethics. Coffee lovers can also enjoy our rotating seasonal specials and in-house \\n        cold brews, made fresh daily.\\n        ')]"
      ]
     },
     "execution_count": 26,
     "metadata": {},
     "output_type": "execute_result"
    }
   ],
   "source": [
    "retriever.invoke(\"what is Bresto Café\")"
   ]
  },
  {
   "cell_type": "code",
   "execution_count": 27,
   "id": "56983b61",
   "metadata": {},
   "outputs": [],
   "source": [
    "from langchain_core.prompts import ChatPromptTemplate\n",
    "template = \"\"\"\n",
    "    Answer the question based on context :{context}\n",
    "    Question {question}\n",
    "    \"\"\"\n",
    "prompt = ChatPromptTemplate.from_template(template)"
   ]
  },
  {
   "cell_type": "code",
   "execution_count": 28,
   "id": "b32ccab0",
   "metadata": {},
   "outputs": [
    {
     "data": {
      "text/plain": [
       "'Based on the context provided in the text, Bresto Café appears to be a coffee shop or café that specializes in artisan coffee blends.'"
      ]
     },
     "execution_count": 28,
     "metadata": {},
     "output_type": "execute_result"
    }
   ],
   "source": [
    "from langchain_core.output_parsers import StrOutputParser\n",
    "from langchain_groq import ChatGroq\n",
    "llm = ChatGroq(model=\"llama-3.1-8b-instant\")\n",
    "\n",
    "def formatDoc(docs):\n",
    "    return \"\\n\\n\".join(f\"{doc.page_content}\\nSource: {doc.metadata['source']}\" for doc in docs)\n",
    "\n",
    "\n",
    "chain = (\n",
    "    {\n",
    "        \"context\":lambda x:formatDoc(retriever.invoke(x)),\n",
    "        \"question\":lambda x:x\n",
    "    }\n",
    "    |prompt\n",
    "    |llm\n",
    "    |StrOutputParser()\n",
    "\n",
    ")    \n",
    "\n",
    "chain.invoke(\"what is Bresto cafe\")"
   ]
  },
  {
   "cell_type": "code",
   "execution_count": null,
   "id": "8d5c00a9",
   "metadata": {},
   "outputs": [],
   "source": []
  },
  {
   "cell_type": "code",
   "execution_count": null,
   "id": "5073f50f",
   "metadata": {},
   "outputs": [],
   "source": []
  },
  {
   "cell_type": "code",
   "execution_count": null,
   "id": "692121eb",
   "metadata": {},
   "outputs": [],
   "source": []
  },
  {
   "cell_type": "code",
   "execution_count": null,
   "id": "43b60c17",
   "metadata": {},
   "outputs": [],
   "source": []
  }
 ],
 "metadata": {
  "kernelspec": {
   "display_name": "venv",
   "language": "python",
   "name": "python3"
  },
  "language_info": {
   "codemirror_mode": {
    "name": "ipython",
    "version": 3
   },
   "file_extension": ".py",
   "mimetype": "text/x-python",
   "name": "python",
   "nbconvert_exporter": "python",
   "pygments_lexer": "ipython3",
   "version": "3.12.1"
  }
 },
 "nbformat": 4,
 "nbformat_minor": 5
}
